{
  "cells": [
    {
      "cell_type": "markdown",
      "metadata": {
        "id": "view-in-github",
        "colab_type": "text"
      },
      "source": [
        "<a href=\"https://colab.research.google.com/github/zelal-Eizaldeen/DLH-Text-EGM/blob/main/main.ipynb\" target=\"_parent\"><img src=\"https://colab.research.google.com/assets/colab-badge.svg\" alt=\"Open In Colab\"/></a>"
      ]
    },
    {
      "cell_type": "markdown",
      "source": [
        "#Check GPU availability"
      ],
      "metadata": {
        "id": "1CVRQP__PCk5"
      }
    },
    {
      "cell_type": "code",
      "source": [
        "import torch\n",
        "print(torch.cuda.is_available())  # Should print True"
      ],
      "metadata": {
        "colab": {
          "base_uri": "https://localhost:8080/"
        },
        "id": "P_SbBbv0FAX3",
        "outputId": "65c8e998-e925-44fc-c379-5571dddf3342"
      },
      "execution_count": 39,
      "outputs": [
        {
          "output_type": "stream",
          "name": "stdout",
          "text": [
            "True\n"
          ]
        }
      ]
    },
    {
      "cell_type": "markdown",
      "source": [
        "# Install Libraries\n",
        "**pyts**<br>\n",
        "(Python Time Series) is a Python library specifically designed for time series classification (TSC). It provides a collection of preprocessing tools, feature extraction methods, and classification algorithms tailored for working with time series data."
      ],
      "metadata": {
        "id": "VCa4Sj_hnbqo"
      }
    },
    {
      "cell_type": "code",
      "execution_count": 21,
      "metadata": {
        "colab": {
          "base_uri": "https://localhost:8080/"
        },
        "id": "ILK_wuw90vFM",
        "outputId": "98144b2c-5cd2-4553-9c5d-11fc0266d0a8"
      },
      "outputs": [
        {
          "output_type": "stream",
          "name": "stdout",
          "text": [
            "Drive already mounted at /content/drive; to attempt to forcibly remount, call drive.mount(\"/content/drive\", force_remount=True).\n"
          ]
        }
      ],
      "source": [
        "from google.colab import drive\n",
        "drive.mount('/content/drive')"
      ]
    },
    {
      "cell_type": "code",
      "execution_count": 3,
      "metadata": {
        "id": "UI83nrhf3GSz"
      },
      "outputs": [],
      "source": [
        "DATA_PATH = \"/content/drive/MyDrive/MastersDegree/DLH/Project/Code/Project/Text-EGM\""
      ]
    },
    {
      "cell_type": "code",
      "source": [
        "!pip install -r $DATA_PATH/requirements.txt"
      ],
      "metadata": {
        "id": "Cb8sygvvEUPI"
      },
      "execution_count": null,
      "outputs": []
    },
    {
      "cell_type": "code",
      "source": [
        "!python $DATA_PATH/train.py --device=cuda:0 --batch=4 --patience=5 --model=big --mask=0.75 --use_ce"
      ],
      "metadata": {
        "colab": {
          "base_uri": "https://localhost:8080/"
        },
        "id": "dJ7lv1Gu_2SD",
        "outputId": "4e44fbc3-ad05-457c-c491-b81b545a05eb"
      },
      "execution_count": null,
      "outputs": [
        {
          "output_type": "stream",
          "name": "stdout",
          "text": [
            "2025-02-18 09:07:33.851891: E external/local_xla/xla/stream_executor/cuda/cuda_fft.cc:477] Unable to register cuFFT factory: Attempting to register factory for plugin cuFFT when one has already been registered\n",
            "WARNING: All log messages before absl::InitializeLog() is called are written to STDERR\n",
            "E0000 00:00:1739869653.873090   24850 cuda_dnn.cc:8310] Unable to register cuDNN factory: Attempting to register factory for plugin cuDNN when one has already been registered\n",
            "E0000 00:00:1739869653.879549   24850 cuda_blas.cc:1418] Unable to register cuBLAS factory: Attempting to register factory for plugin cuBLAS when one has already been registered\n",
            "Directory created: /content/drive/MyDrive/MastersDegree/DLH/Project/Code/Project/Text-EGM/runs/checkpoint/saved_best_0.0001_4_5_0.01_big_True_0.75_1.0_1.0_False_1.0_False_False_False\n",
            "cuda:0\n",
            "Loading Data...\n",
            "CE being used: True\n",
            "Creating Custom Tokens...\n",
            "Initalizing Model...\n",
            "BigBirdForMaskedLM has generative capabilities, as `prepare_inputs_for_generation` is explicitly overwritten. However, it doesn't directly inherit from `GenerationMixin`. From 👉v4.50👈 onwards, `PreTrainedModel` will NOT inherit from `GenerationMixin`, and this model will lose the ability to call `generate` and other related functions.\n",
            "  - If you're using `trust_remote_code=True`, you can get rid of this warning by loading the model with an auto class. See https://huggingface.co/docs/transformers/en/model_doc/auto#auto-classes\n",
            "  - If you are the owner of the model architecture code, please modify your model class such that it inherits from `GenerationMixin` (after `PreTrainedModel`, otherwise you'll get an exception).\n",
            "  - If you are not the owner of the model architecture class, please contact the model code owner to update it.\n",
            "The new embeddings will be initialized from a multivariate normal distribution that has old embeddings' mean and covariance. As described in this article: https://nlp.stanford.edu/~johnhew/vocab-expansion.html. To disable this, use `mean_resizing=False`\n",
            "Creating Dataset and DataLoader...\n",
            "Training... :   0% 0/1260 [00:00<?, ?it/s]Input ids are automatically padded from 1004 to 1024 to be a multiple of `config.block_size`: 64\n",
            "Training... :  22% 280/1260 [08:28<30:03,  1.84s/it]"
          ]
        }
      ]
    },
    {
      "cell_type": "markdown",
      "source": [
        "#Run Inference.py"
      ],
      "metadata": {
        "id": "LoVEL_HuSh-h"
      }
    },
    {
      "cell_type": "code",
      "source": [
        "!python $DATA_PATH/inference.py --device=cuda:0 --batch=1 --checkpoint='' --model=big --inference --mask=0.75\n"
      ],
      "metadata": {
        "id": "7HJjFKpCSmj9"
      },
      "execution_count": null,
      "outputs": []
    },
    {
      "cell_type": "code",
      "execution_count": 23,
      "metadata": {
        "id": "7uN6cKz11s0m"
      },
      "outputs": [],
      "source": [
        "#To import python module\n",
        "# #sys.path.append('/path/to/directory/')\n",
        "\n",
        "# import sys\n",
        "# sys.path.append('/content/drive/MyDrive/MastersDegree/DLH/Project/Code/Project/Text-EGM/')\n",
        "\n"
      ]
    }
  ],
  "metadata": {
    "colab": {
      "provenance": [],
      "gpuType": "T4",
      "authorship_tag": "ABX9TyOPn2MqBBrE6wkE7JOYQyeH",
      "include_colab_link": true
    },
    "kernelspec": {
      "display_name": "Python 3",
      "name": "python3"
    },
    "language_info": {
      "name": "python"
    },
    "accelerator": "GPU"
  },
  "nbformat": 4,
  "nbformat_minor": 0
}